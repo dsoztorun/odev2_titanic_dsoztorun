{
 "cells": [
  {
   "cell_type": "code",
   "execution_count": 70,
   "id": "55653676",
   "metadata": {},
   "outputs": [],
   "source": [
    "import pandas as pd\n",
    "import numpy as np"
   ]
  },
  {
   "cell_type": "code",
   "execution_count": 71,
   "id": "d13037a0",
   "metadata": {},
   "outputs": [],
   "source": [
    "url = \"https://raw.githubusercontent.com/dsoztorun/odev2_titanic_dsoztorun/refs/heads/main/Titanic_dataset.csv\"\n",
    "df_titanic = pd.read_csv(url)\n",
    "df_titanic2 = df_titanic.copy()"
   ]
  },
  {
   "cell_type": "code",
   "execution_count": 72,
   "id": "28735350",
   "metadata": {},
   "outputs": [
    {
     "name": "stdout",
     "output_type": "stream",
     "text": [
      "<class 'pandas.core.frame.DataFrame'>\n",
      "RangeIndex: 891 entries, 0 to 890\n",
      "Data columns (total 12 columns):\n",
      " #   Column       Non-Null Count  Dtype  \n",
      "---  ------       --------------  -----  \n",
      " 0   PassengerId  891 non-null    int64  \n",
      " 1   Survived     891 non-null    int64  \n",
      " 2   Pclass       891 non-null    int64  \n",
      " 3   Name         891 non-null    object \n",
      " 4   Sex          891 non-null    object \n",
      " 5   Age          714 non-null    float64\n",
      " 6   SibSp        891 non-null    int64  \n",
      " 7   Parch        891 non-null    int64  \n",
      " 8   Ticket       891 non-null    object \n",
      " 9   Fare         891 non-null    float64\n",
      " 10  Cabin        204 non-null    object \n",
      " 11  Embarked     889 non-null    object \n",
      "dtypes: float64(2), int64(5), object(5)\n",
      "memory usage: 83.7+ KB\n"
     ]
    }
   ],
   "source": [
    "df_titanic.info()"
   ]
  },
  {
   "cell_type": "markdown",
   "id": "7f9f03cf",
   "metadata": {},
   "source": [
    "\"Age\" ve \"Cabin\" sütunlarında eksik değerler var. \n",
    "Modelleme değil analiz yaptığımızdan sadece eksik veriyi tespit ediyoruz.\n",
    "Eksik veri silme ya da ortalama değer atama gibi işlemler yapmıyoruz."
   ]
  },
  {
   "cell_type": "code",
   "execution_count": 73,
   "id": "b9a475b6",
   "metadata": {},
   "outputs": [
    {
     "name": "stdout",
     "output_type": "stream",
     "text": [
      "866\n",
      "PassengerId      0\n",
      "Survived         0\n",
      "Pclass           0\n",
      "Name             0\n",
      "Sex              0\n",
      "Age            177\n",
      "SibSp            0\n",
      "Parch            0\n",
      "Ticket           0\n",
      "Fare             0\n",
      "Cabin          687\n",
      "Embarked         2\n",
      "dtype: int64\n"
     ]
    }
   ],
   "source": [
    "print(df_titanic.isnull().sum().sum()) \n",
    "print(df_titanic.isnull().sum()) "
   ]
  },
  {
   "cell_type": "markdown",
   "id": "51ff4ded",
   "metadata": {},
   "source": [
    "Toplam 866 boş hücre var. \n",
    "Sadece “Age” sütunundaki eksik değerleri silmek bile %19.86 veri kaybına neden olur.\n",
    ".mean() ve .median() fonksiyonları null değerleri dışlayarak hesap yapar."
   ]
  },
  {
   "cell_type": "markdown",
   "id": "df928216",
   "metadata": {},
   "source": [
    "1.\tKazada ölenlerin yaş ortalamasını bulunuz"
   ]
  },
  {
   "cell_type": "code",
   "execution_count": 74,
   "id": "27a143fe",
   "metadata": {},
   "outputs": [
    {
     "data": {
      "text/plain": [
       "np.float64(30.62617924528302)"
      ]
     },
     "execution_count": 74,
     "metadata": {},
     "output_type": "execute_result"
    }
   ],
   "source": [
    "df_titanic[df_titanic[\"Survived\"]==0][\"Age\"].mean()"
   ]
  },
  {
   "cell_type": "markdown",
   "id": "d84bc2df",
   "metadata": {},
   "source": [
    "Kazada ölenlerin yaş ortalaması ~30.63"
   ]
  },
  {
   "cell_type": "markdown",
   "id": "e17f79c3",
   "metadata": {},
   "source": [
    "2.\tKazada ölenlerin bilet fiyatlarının ortalamasını ve medyanını bulunuz"
   ]
  },
  {
   "cell_type": "code",
   "execution_count": 75,
   "id": "71a3f19e",
   "metadata": {},
   "outputs": [
    {
     "data": {
      "text/plain": [
       "np.float64(22.117886885245902)"
      ]
     },
     "execution_count": 75,
     "metadata": {},
     "output_type": "execute_result"
    }
   ],
   "source": [
    "df_titanic[df_titanic[\"Survived\"]==0][\"Fare\"].mean()"
   ]
  },
  {
   "cell_type": "markdown",
   "id": "ef44bc16",
   "metadata": {},
   "source": [
    "Kazada ölenlerin bilet fiyatlarının ortalaması ~22.12"
   ]
  },
  {
   "cell_type": "code",
   "execution_count": 76,
   "id": "4bb7dc2a",
   "metadata": {},
   "outputs": [
    {
     "data": {
      "text/plain": [
       "np.float64(10.5)"
      ]
     },
     "execution_count": 76,
     "metadata": {},
     "output_type": "execute_result"
    }
   ],
   "source": [
    "df_titanic[df_titanic[\"Survived\"]==0][\"Fare\"].median()"
   ]
  },
  {
   "cell_type": "markdown",
   "id": "e9781284",
   "metadata": {},
   "source": [
    "Kazada ölenlerin bilet fiyatlarının medyanı 10.5"
   ]
  },
  {
   "cell_type": "markdown",
   "id": "6452e9cc",
   "metadata": {},
   "source": [
    "3.\tKazada ölen erkeklerin yaş ortalamasını bulunuz"
   ]
  },
  {
   "cell_type": "code",
   "execution_count": 77,
   "id": "1dcf2f67",
   "metadata": {},
   "outputs": [
    {
     "data": {
      "text/plain": [
       "np.float64(31.618055555555557)"
      ]
     },
     "execution_count": 77,
     "metadata": {},
     "output_type": "execute_result"
    }
   ],
   "source": [
    "df_titanic[(df_titanic[\"Survived\"]==0)&(df_titanic[\"Sex\"]==\"male\")][\"Age\"].mean()"
   ]
  },
  {
   "cell_type": "markdown",
   "id": "dd17cedc",
   "metadata": {},
   "source": [
    "Kazada ölen erkeklerin yaş ortamalası ~31.62"
   ]
  },
  {
   "cell_type": "markdown",
   "id": "4a57a677",
   "metadata": {},
   "source": [
    "4.\tKazada ölen kadınların yaş ortalamasını bulunuz"
   ]
  },
  {
   "cell_type": "code",
   "execution_count": 78,
   "id": "87f60587",
   "metadata": {},
   "outputs": [
    {
     "data": {
      "text/plain": [
       "np.float64(25.046875)"
      ]
     },
     "execution_count": 78,
     "metadata": {},
     "output_type": "execute_result"
    }
   ],
   "source": [
    "df_titanic[(df_titanic[\"Survived\"]==0)&(df_titanic[\"Sex\"]==\"female\")][\"Age\"].mean()"
   ]
  },
  {
   "cell_type": "markdown",
   "id": "abed34cf",
   "metadata": {},
   "source": [
    "Kazada ölen kadınların yaş ortalaması ~25"
   ]
  },
  {
   "cell_type": "markdown",
   "id": "cecb4f57",
   "metadata": {},
   "source": [
    "5.\tKazadan kurtulanların yaş ortalamasını bulunuz"
   ]
  },
  {
   "cell_type": "code",
   "execution_count": 79,
   "id": "c961e3f4",
   "metadata": {},
   "outputs": [
    {
     "data": {
      "text/plain": [
       "np.float64(28.343689655172415)"
      ]
     },
     "execution_count": 79,
     "metadata": {},
     "output_type": "execute_result"
    }
   ],
   "source": [
    "df_titanic[df_titanic[\"Survived\"]==1][\"Age\"].mean()"
   ]
  },
  {
   "cell_type": "markdown",
   "id": "7fb89d52",
   "metadata": {},
   "source": [
    "Kazadan kurtulanların yaş ortalaması ~28.34"
   ]
  },
  {
   "cell_type": "markdown",
   "id": "b9422368",
   "metadata": {},
   "source": [
    "6.\tKazadan kurtulanların bilet fiyatlarının ortalamasını bulunuz"
   ]
  },
  {
   "cell_type": "code",
   "execution_count": 80,
   "id": "235ce5c3",
   "metadata": {},
   "outputs": [
    {
     "data": {
      "text/plain": [
       "np.float64(48.39540760233918)"
      ]
     },
     "execution_count": 80,
     "metadata": {},
     "output_type": "execute_result"
    }
   ],
   "source": [
    "df_titanic[df_titanic[\"Survived\"]==1][\"Fare\"].mean()"
   ]
  },
  {
   "cell_type": "markdown",
   "id": "d0ae6805",
   "metadata": {},
   "source": [
    "Kazadan kurtulanların bilet fiyatlarının ortalaması ~48.4"
   ]
  },
  {
   "cell_type": "markdown",
   "id": "b3c85744",
   "metadata": {},
   "source": [
    "7.\tKazadan kurtulan toplam kişi sayısını bulunuz…(tüyo: len(df_titanic[(df_titanic.Survived==1)] kodu ile de bu sayıya ulaşabilirsiniz.)"
   ]
  },
  {
   "cell_type": "code",
   "execution_count": 81,
   "id": "85f2c197",
   "metadata": {},
   "outputs": [
    {
     "data": {
      "text/plain": [
       "np.int64(342)"
      ]
     },
     "execution_count": 81,
     "metadata": {},
     "output_type": "execute_result"
    }
   ],
   "source": [
    "df_titanic[df_titanic[\"Survived\"]==1][\"Survived\"].count()"
   ]
  },
  {
   "cell_type": "markdown",
   "id": "78f885f7",
   "metadata": {},
   "source": [
    "Kazadan kurtulan toplam kişi sayısı 342"
   ]
  },
  {
   "cell_type": "markdown",
   "id": "376a418d",
   "metadata": {},
   "source": [
    "8.\t10 yaşından küçüklerin bilet fiyatlarının medyan değerini bulunuz"
   ]
  },
  {
   "cell_type": "code",
   "execution_count": 82,
   "id": "4f8d13ab",
   "metadata": {},
   "outputs": [
    {
     "data": {
      "text/plain": [
       "np.float64(27.0)"
      ]
     },
     "execution_count": 82,
     "metadata": {},
     "output_type": "execute_result"
    }
   ],
   "source": [
    "df_titanic[df_titanic[\"Age\"] < 10 ][\"Fare\"].median()"
   ]
  },
  {
   "cell_type": "markdown",
   "id": "36e44f00",
   "metadata": {},
   "source": [
    "10 yaşından küçüklerin bilet fiyatlarının medyan değeri 27"
   ]
  },
  {
   "cell_type": "markdown",
   "id": "73a0e085",
   "metadata": {},
   "source": [
    "9.\t1.sınıf, 2.sınıf ve 3.sınıf bilet fiyatlarının ortalama ve medyanlarını karşılaştırınız. (Pclass değişkeni sınıfları barındırmaktadır.)"
   ]
  },
  {
   "cell_type": "code",
   "execution_count": 83,
   "id": "d8b479c5",
   "metadata": {},
   "outputs": [
    {
     "data": {
      "text/plain": [
       "np.float64(84.1546875)"
      ]
     },
     "execution_count": 83,
     "metadata": {},
     "output_type": "execute_result"
    }
   ],
   "source": [
    "df_titanic[df_titanic[\"Pclass\"]==1][\"Fare\"].mean()"
   ]
  },
  {
   "cell_type": "code",
   "execution_count": 84,
   "id": "04354244",
   "metadata": {},
   "outputs": [
    {
     "data": {
      "text/plain": [
       "np.float64(60.287499999999994)"
      ]
     },
     "execution_count": 84,
     "metadata": {},
     "output_type": "execute_result"
    }
   ],
   "source": [
    "df_titanic[df_titanic[\"Pclass\"]==1][\"Fare\"].median()"
   ]
  },
  {
   "cell_type": "code",
   "execution_count": 85,
   "id": "305a0dc4",
   "metadata": {},
   "outputs": [
    {
     "data": {
      "text/plain": [
       "np.float64(20.662183152173913)"
      ]
     },
     "execution_count": 85,
     "metadata": {},
     "output_type": "execute_result"
    }
   ],
   "source": [
    "df_titanic[df_titanic[\"Pclass\"]==2][\"Fare\"].mean()"
   ]
  },
  {
   "cell_type": "code",
   "execution_count": 86,
   "id": "949f11dd",
   "metadata": {},
   "outputs": [
    {
     "data": {
      "text/plain": [
       "np.float64(14.25)"
      ]
     },
     "execution_count": 86,
     "metadata": {},
     "output_type": "execute_result"
    }
   ],
   "source": [
    "df_titanic[df_titanic[\"Pclass\"]==2][\"Fare\"].median()"
   ]
  },
  {
   "cell_type": "code",
   "execution_count": 87,
   "id": "581c7bd1",
   "metadata": {},
   "outputs": [
    {
     "data": {
      "text/plain": [
       "np.float64(13.675550101832993)"
      ]
     },
     "execution_count": 87,
     "metadata": {},
     "output_type": "execute_result"
    }
   ],
   "source": [
    "df_titanic[df_titanic[\"Pclass\"]==3][\"Fare\"].mean()"
   ]
  },
  {
   "cell_type": "code",
   "execution_count": 88,
   "id": "edf98920",
   "metadata": {},
   "outputs": [
    {
     "data": {
      "text/plain": [
       "np.float64(8.05)"
      ]
     },
     "execution_count": 88,
     "metadata": {},
     "output_type": "execute_result"
    }
   ],
   "source": [
    "df_titanic[df_titanic[\"Pclass\"]==3][\"Fare\"].median()"
   ]
  },
  {
   "cell_type": "code",
   "execution_count": 89,
   "id": "e14d22f3",
   "metadata": {},
   "outputs": [],
   "source": [
    "Fare_Comparison_Dict = {\"1.Class\": [84.1546875,60.287499999999994],\"2.Class\":[20.662183152173913,14.25],\"3.Class\":[13.675550101832993,8.05]}"
   ]
  },
  {
   "cell_type": "code",
   "execution_count": 90,
   "id": "9f9c5b19",
   "metadata": {},
   "outputs": [],
   "source": [
    "Fare_Comparison = pd.DataFrame(data = Fare_Comparison_Dict, index = [\"Mean\",\"Median\"])"
   ]
  },
  {
   "cell_type": "code",
   "execution_count": 91,
   "id": "9450ca37",
   "metadata": {},
   "outputs": [
    {
     "name": "stdout",
     "output_type": "stream",
     "text": [
      "          1.Class    2.Class   3.Class\n",
      "Mean    84.154687  20.662183  13.67555\n",
      "Median  60.287500  14.250000   8.05000\n"
     ]
    }
   ],
   "source": [
    "print(Fare_Comparison)"
   ]
  },
  {
   "cell_type": "markdown",
   "id": "fc9d64ea",
   "metadata": {},
   "source": [
    "1. sınıftan 3. sınıfa doğru bilet fiyatlarında ortalama ve medyanlar düşüş göstermektedir."
   ]
  },
  {
   "cell_type": "markdown",
   "id": "01735bfd",
   "metadata": {},
   "source": [
    "10.\tKazada ölen kadınların oranı ile erkeklerin oranını karşılaştırınız. (Örnek: erkekler için; ölen erkeklerin, erkek sayısına bölümü bu oranı vermektedir."
   ]
  },
  {
   "cell_type": "code",
   "execution_count": 92,
   "id": "2c1381c1",
   "metadata": {},
   "outputs": [
    {
     "data": {
      "text/plain": [
       "np.int64(314)"
      ]
     },
     "execution_count": 92,
     "metadata": {},
     "output_type": "execute_result"
    }
   ],
   "source": [
    "df_titanic[df_titanic[\"Sex\"]==\"female\"][\"Sex\"].count()"
   ]
  },
  {
   "cell_type": "code",
   "execution_count": 93,
   "id": "2e03b60f",
   "metadata": {},
   "outputs": [
    {
     "data": {
      "text/plain": [
       "np.int64(81)"
      ]
     },
     "execution_count": 93,
     "metadata": {},
     "output_type": "execute_result"
    }
   ],
   "source": [
    "df_titanic[(df_titanic[\"Survived\"]==0)&(df_titanic[\"Sex\"]==\"female\")][\"Sex\"].count()"
   ]
  },
  {
   "cell_type": "code",
   "execution_count": 94,
   "id": "0877d66c",
   "metadata": {},
   "outputs": [
    {
     "data": {
      "text/plain": [
       "np.int64(577)"
      ]
     },
     "execution_count": 94,
     "metadata": {},
     "output_type": "execute_result"
    }
   ],
   "source": [
    "df_titanic[df_titanic[\"Sex\"]==\"male\"][\"Sex\"].count()"
   ]
  },
  {
   "cell_type": "code",
   "execution_count": 95,
   "id": "77593eba",
   "metadata": {},
   "outputs": [
    {
     "data": {
      "text/plain": [
       "np.int64(468)"
      ]
     },
     "execution_count": 95,
     "metadata": {},
     "output_type": "execute_result"
    }
   ],
   "source": [
    "df_titanic[(df_titanic[\"Survived\"]==0)&(df_titanic[\"Sex\"]==\"male\")][\"Sex\"].count()"
   ]
  },
  {
   "cell_type": "code",
   "execution_count": 96,
   "id": "912fb6f0",
   "metadata": {},
   "outputs": [],
   "source": [
    "Cinsiyet_Olum_Dict = {\"Kadinlar\": [314, 81, 81/314*100], \"Erkekler\" : [577, 468, 468/577*100]}"
   ]
  },
  {
   "cell_type": "code",
   "execution_count": 97,
   "id": "294d6a6b",
   "metadata": {},
   "outputs": [],
   "source": [
    "Cinsiyet_Olum = pd.DataFrame(data=Cinsiyet_Olum_Dict, index = [\"Toplam Kişi Sayisi\", \"Olen Sayisi\", \"Olum Orani(%)\"], dtype=float)"
   ]
  },
  {
   "cell_type": "code",
   "execution_count": 98,
   "id": "e1d7caa4",
   "metadata": {},
   "outputs": [
    {
     "name": "stdout",
     "output_type": "stream",
     "text": [
      "                      Kadinlar    Erkekler\n",
      "Toplam Kişi Sayisi  314.000000  577.000000\n",
      "Olen Sayisi          81.000000  468.000000\n",
      "Olum Orani(%)        25.796178   81.109185\n"
     ]
    }
   ],
   "source": [
    "print(Cinsiyet_Olum)"
   ]
  },
  {
   "cell_type": "markdown",
   "id": "ee873df1",
   "metadata": {},
   "source": [
    "Kadınlarda ölüm oranı ~25.8 iken erkeklerde ~81.1'dir."
   ]
  }
 ],
 "metadata": {
  "kernelspec": {
   "display_name": "Python 3",
   "language": "python",
   "name": "python3"
  },
  "language_info": {
   "codemirror_mode": {
    "name": "ipython",
    "version": 3
   },
   "file_extension": ".py",
   "mimetype": "text/x-python",
   "name": "python",
   "nbconvert_exporter": "python",
   "pygments_lexer": "ipython3",
   "version": "3.9.10"
  }
 },
 "nbformat": 4,
 "nbformat_minor": 5
}
